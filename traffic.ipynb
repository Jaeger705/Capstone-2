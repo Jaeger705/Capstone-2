{
 "cells": [
  {
   "cell_type": "code",
   "execution_count": 15,
   "metadata": {},
   "outputs": [
    {
     "name": "stderr",
     "output_type": "stream",
     "text": [
      "C:\\Users\\bigbo\\AppData\\Local\\Temp\\ipykernel_2512\\3793216915.py:3: DtypeWarning: Columns (3) have mixed types. Specify dtype option on import or set low_memory=False.\n",
      "  df = pd.read_csv('C:/Users/bigbo/CodingTemple/Motor_Vehicle_Collisions_-_Crashes_20240412.csv')\n"
     ]
    },
    {
     "name": "stdout",
     "output_type": "stream",
     "text": [
      "   CRASH DATE CRASH TIME   BOROUGH ZIP CODE   LATITUDE  LONGITUDE  \\\n",
      "0  09/11/2021       2:39       NaN      NaN        NaN        NaN   \n",
      "1  03/26/2022      11:45       NaN      NaN        NaN        NaN   \n",
      "2  06/29/2022       6:55       NaN      NaN        NaN        NaN   \n",
      "3  09/11/2021       9:35  BROOKLYN  11208.0  40.667202 -73.866500   \n",
      "4  12/14/2021       8:13  BROOKLYN  11233.0  40.683304 -73.917274   \n",
      "\n",
      "                  LOCATION           ON STREET NAME CROSS STREET NAME  \\\n",
      "0                      NaN    WHITESTONE EXPRESSWAY         20 AVENUE   \n",
      "1                      NaN  QUEENSBORO BRIDGE UPPER               NaN   \n",
      "2                      NaN       THROGS NECK BRIDGE               NaN   \n",
      "3    (40.667202, -73.8665)                      NaN               NaN   \n",
      "4  (40.683304, -73.917274)          SARATOGA AVENUE    DECATUR STREET   \n",
      "\n",
      "           OFF STREET NAME  ...  CONTRIBUTING FACTOR VEHICLE 2  \\\n",
      "0                      NaN  ...                    Unspecified   \n",
      "1                      NaN  ...                            NaN   \n",
      "2                      NaN  ...                    Unspecified   \n",
      "3  1211      LORING AVENUE  ...                            NaN   \n",
      "4                      NaN  ...                            NaN   \n",
      "\n",
      "   CONTRIBUTING FACTOR VEHICLE 3  CONTRIBUTING FACTOR VEHICLE 4  \\\n",
      "0                            NaN                            NaN   \n",
      "1                            NaN                            NaN   \n",
      "2                            NaN                            NaN   \n",
      "3                            NaN                            NaN   \n",
      "4                            NaN                            NaN   \n",
      "\n",
      "   CONTRIBUTING FACTOR VEHICLE 5  COLLISION_ID  VEHICLE TYPE CODE 1  \\\n",
      "0                            NaN       4455765                Sedan   \n",
      "1                            NaN       4513547                Sedan   \n",
      "2                            NaN       4541903                Sedan   \n",
      "3                            NaN       4456314                Sedan   \n",
      "4                            NaN       4486609                  NaN   \n",
      "\n",
      "   VEHICLE TYPE CODE 2  VEHICLE TYPE CODE 3 VEHICLE TYPE CODE 4  \\\n",
      "0                Sedan                  NaN                 NaN   \n",
      "1                  NaN                  NaN                 NaN   \n",
      "2        Pick-up Truck                  NaN                 NaN   \n",
      "3                  NaN                  NaN                 NaN   \n",
      "4                  NaN                  NaN                 NaN   \n",
      "\n",
      "  VEHICLE TYPE CODE 5  \n",
      "0                 NaN  \n",
      "1                 NaN  \n",
      "2                 NaN  \n",
      "3                 NaN  \n",
      "4                 NaN  \n",
      "\n",
      "[5 rows x 29 columns]\n",
      "Index(['CRASH DATE', 'CRASH TIME', 'BOROUGH', 'ZIP CODE', 'LATITUDE',\n",
      "       'LONGITUDE', 'LOCATION', 'ON STREET NAME', 'CROSS STREET NAME',\n",
      "       'OFF STREET NAME', 'NUMBER OF PERSONS INJURED',\n",
      "       'NUMBER OF PERSONS KILLED', 'NUMBER OF PEDESTRIANS INJURED',\n",
      "       'NUMBER OF PEDESTRIANS KILLED', 'NUMBER OF CYCLIST INJURED',\n",
      "       'NUMBER OF CYCLIST KILLED', 'NUMBER OF MOTORIST INJURED',\n",
      "       'NUMBER OF MOTORIST KILLED', 'CONTRIBUTING FACTOR VEHICLE 1',\n",
      "       'CONTRIBUTING FACTOR VEHICLE 2', 'CONTRIBUTING FACTOR VEHICLE 3',\n",
      "       'CONTRIBUTING FACTOR VEHICLE 4', 'CONTRIBUTING FACTOR VEHICLE 5',\n",
      "       'COLLISION_ID', 'VEHICLE TYPE CODE 1', 'VEHICLE TYPE CODE 2',\n",
      "       'VEHICLE TYPE CODE 3', 'VEHICLE TYPE CODE 4', 'VEHICLE TYPE CODE 5'],\n",
      "      dtype='object')\n"
     ]
    }
   ],
   "source": [
    "import pandas as pd\n",
    "\n",
    "df = pd.read_csv('C:/Users/bigbo/CodingTemple/Motor_Vehicle_Collisions_-_Crashes_20240412.csv')\n",
    "print(df.head())\n",
    "print(df.columns)"
   ]
  },
  {
   "cell_type": "code",
   "execution_count": 16,
   "metadata": {},
   "outputs": [
    {
     "name": "stdout",
     "output_type": "stream",
     "text": [
      "Total fatal crashes: 2987\n",
      "Frequency of fatal crashes: 0.6946511627906977\n"
     ]
    }
   ],
   "source": [
    "# Calculate the total number of fatal crashes and their frequency\n",
    "fatal_crashes = df[df['NUMBER OF PERSONS KILLED'] > 0]\n",
    "total_fatal_crashes = fatal_crashes.shape[0]\n",
    "\n",
    "# Calculate the frequency of fatal crashes\n",
    "frequency = df['CRASH DATE'].nunique()\n",
    "fatal_crash_frequency = total_fatal_crashes / frequency\n",
    "\n",
    "print('Total fatal crashes:', total_fatal_crashes)\n",
    "print('Frequency of fatal crashes:', fatal_crash_frequency)"
   ]
  },
  {
   "cell_type": "code",
   "execution_count": 17,
   "metadata": {},
   "outputs": [
    {
     "name": "stdout",
     "output_type": "stream",
     "text": [
      "Maximum date in the dataset: 2024-04-08 00:00:00\n"
     ]
    }
   ],
   "source": [
    "# Convert 'CRASH DATE' to datetime and find the maximum date\n",
    "df['CRASH DATE'] = pd.to_datetime(df['CRASH DATE'])\n",
    "max_date = df['CRASH DATE'].max()\n",
    "\n",
    "print('Maximum date in the dataset:', max_date)"
   ]
  },
  {
   "cell_type": "code",
   "execution_count": 18,
   "metadata": {},
   "outputs": [
    {
     "name": "stdout",
     "output_type": "stream",
     "text": [
      "Number of crashes in the last 6 months: 46295\n",
      "Number of crashes in the previous 6 months: 49672\n"
     ]
    }
   ],
   "source": [
    "# Define the last 6 months period and the previous 6 months period\n",
    "last_6_months_start = max_date - pd.DateOffset(months=6)\n",
    "previous_6_months_start = last_6_months_start - pd.DateOffset(months=6)\n",
    "previous_6_months_end = last_6_months_start - pd.DateOffset(days=1)\n",
    "\n",
    "# Calculate the number of crashes in the last 6 months and the previous 6 months\n",
    "last_6_months_crashes = df[(df['CRASH DATE'] >= last_6_months_start) & (df['CRASH DATE'] <= max_date)].shape[0]\n",
    "previous_6_months_crashes = df[(df['CRASH DATE'] >= previous_6_months_start) & (df['CRASH DATE'] <= previous_6_months_end)].shape[0]\n",
    "\n",
    "print('Number of crashes in the last 6 months:', last_6_months_crashes)\n",
    "print('Number of crashes in the previous 6 months:', previous_6_months_crashes)"
   ]
  },
  {
   "cell_type": "code",
   "execution_count": 28,
   "metadata": {},
   "outputs": [
    {
     "data": {
      "image/png": "[encoded data removed]",
      "text/plain": [
       "<Figure size 1000x500 with 1 Axes>"
      ]
     },
     "metadata": {},
     "output_type": "display_data"
    }
   ],
   "source": [
    "import matplotlib.pyplot as plt\n",
    "\n",
    "\n",
    "df['CRASH DATE'] = pd.to_datetime(df['CRASH DATE'])\n",
    "\n",
    "# Extract year from 'CRASH DATE' and count crashes per year\n",
    "df['YEAR'] = df['CRASH DATE'].dt.year\n",
    "crashes_per_year = df.groupby('YEAR').size()\n",
    "\n",
    "# Plotting the data\n",
    "crashes_per_year.plot(kind='line', figsize=(10, 5), marker='o', color='b', title='Number of Crashes Per Year')\n",
    "plt.xlabel('Year')\n",
    "plt.ylabel('Number of Crashes')\n",
    "plt.grid(True)\n",
    "plt.show()"
   ]
  },
  {
   "cell_type": "code",
   "execution_count": 21,
   "metadata": {},
   "outputs": [
    {
     "name": "stdout",
     "output_type": "stream",
     "text": [
      "Total Injured Cyclists: 55794\n",
      "Total Injured Pedestrians: 117754\n",
      "Total Injured Motorists: 464129\n"
     ]
    }
   ],
   "source": [
    "# Calculate the total number of injured cyclists, pedestrians, and motorists\n",
    "total_injured_cyclists = df['NUMBER OF CYCLIST INJURED'].sum()\n",
    "total_injured_pedestrians = df['NUMBER OF PEDESTRIANS INJURED'].sum()\n",
    "total_injured_motorists = df['NUMBER OF MOTORIST INJURED'].sum()\n",
    "\n",
    "print('Total Injured Cyclists:', total_injured_cyclists)\n",
    "print('Total Injured Pedestrians:', total_injured_pedestrians)\n",
    "print('Total Injured Motorists:', total_injured_motorists)\n"
   ]
  },
  {
   "cell_type": "code",
   "execution_count": 22,
   "metadata": {},
   "outputs": [
    {
     "name": "stdout",
     "output_type": "stream",
     "text": [
      "Total Dead Cyclists: 239\n",
      "Total Dead Pedestrians: 1542\n",
      "Total Dead Motorists: 1280\n"
     ]
    }
   ],
   "source": [
    "# Calculate the total number of fatalities for cyclists, pedestrians, and motorists\n",
    "total_dead_cyclists = df['NUMBER OF CYCLIST KILLED'].sum()\n",
    "total_dead_pedestrians = df['NUMBER OF PEDESTRIANS KILLED'].sum()\n",
    "total_dead_motorists = df['NUMBER OF MOTORIST KILLED'].sum()\n",
    "\n",
    "print('Total Dead Cyclists:', total_dead_cyclists)\n",
    "print('Total Dead Pedestrians:', total_dead_pedestrians)\n",
    "print('Total Dead Motorists:', total_dead_motorists)"
   ]
  },
  {
   "cell_type": "code",
   "execution_count": 23,
   "metadata": {},
   "outputs": [
    {
     "name": "stdout",
     "output_type": "stream",
     "text": [
      "ON STREET NAME\n",
      "BROADWAY                            17277\n",
      "ATLANTIC AVENUE                     15322\n",
      "BELT PARKWAY                        13543\n",
      "3 AVENUE                            12476\n",
      "NORTHERN BOULEVARD                  11965\n",
      "LONG ISLAND EXPRESSWAY               9928\n",
      "BROOKLYN QUEENS EXPRESSWAY           9743\n",
      "FLATBUSH AVENUE                      9741\n",
      "LINDEN BOULEVARD                     9587\n",
      "QUEENS BOULEVARD                     9368\n",
      "Name: count, dtype: int64\n"
     ]
    }
   ],
   "source": [
    "# Analyze the street names where collisions most frequently occur\n",
    "collision_streets = df['ON STREET NAME'].value_counts().head(10)\n",
    "print(collision_streets)"
   ]
  },
  {
   "cell_type": "code",
   "execution_count": 24,
   "metadata": {},
   "outputs": [
    {
     "name": "stdout",
     "output_type": "stream",
     "text": [
      "CONTRIBUTING FACTOR VEHICLE 1\n",
      "Driver Inattention/Distraction    5824\n",
      "Unspecified                       3801\n",
      "Following Too Closely             2942\n",
      "Failure to Yield Right-of-Way     1282\n",
      "Passing or Lane Usage Improper    1194\n",
      "Unsafe Lane Changing               967\n",
      "Unsafe Speed                       950\n",
      "Other Vehicular                    575\n",
      "Reaction to Uninvolved Vehicle     497\n",
      "Traffic Control Disregarded        456\n",
      "Name: count, dtype: int64\n"
     ]
    }
   ],
   "source": [
    "# Analyze the common causes of collisions on the top 10 streets with the most incidents\n",
    "top_streets = ['BROADWAY', 'ATLANTIC AVENUE', 'BELT PARKWAY', '3 AVENUE', 'NORTHERN BOULEVARD', 'LONG ISLAND EXPRESSWAY', 'BROOKLYN QUEENS EXPRESSWAY', 'FLATBUSH AVENUE', 'LINDEN BOULEVARD', 'QUEENS BOULEVARD']\n",
    "common_causes = df[df['ON STREET NAME'].isin(top_streets)]['CONTRIBUTING FACTOR VEHICLE 1'].value_counts().head(10)\n",
    "print(common_causes)"
   ]
  },
  {
   "cell_type": "code",
   "execution_count": 25,
   "metadata": {},
   "outputs": [
    {
     "name": "stdout",
     "output_type": "stream",
     "text": [
      "CONTRIBUTING FACTOR VEHICLE 1\n",
      "Unspecified                       707766\n",
      "Driver Inattention/Distraction    416266\n",
      "Failure to Yield Right-of-Way     123586\n",
      "Following Too Closely             111189\n",
      "Backing Unsafely                   76834\n",
      "Other Vehicular                    64531\n",
      "Passing or Lane Usage Improper     58013\n",
      "Passing Too Closely                51767\n",
      "Turning Improperly                 51346\n",
      "Fatigued/Drowsy                    47406\n",
      "Name: count, dtype: int64\n"
     ]
    }
   ],
   "source": [
    "# Analyze the common causes of collisions across all streets\n",
    "collision_causes = df['CONTRIBUTING FACTOR VEHICLE 1'].value_counts().head(10)\n",
    "print(collision_causes)"
   ]
  },
  {
   "cell_type": "code",
   "execution_count": 26,
   "metadata": {},
   "outputs": [
    {
     "name": "stdout",
     "output_type": "stream",
     "text": [
      "Total Deaths in 2018: 231.0\n",
      "Total Deaths in 2019: 244.0\n",
      "Total Deaths in 2020: 269.0\n"
     ]
    }
   ],
   "source": [
    "\n",
    "\n",
    "\n",
    "# Convert the 'CRASH DATE' column to datetime\n",
    "df['CRASH DATE'] = pd.to_datetime(df['CRASH DATE'])\n",
    "\n",
    "# Calculate the total number of fatalities for the years 2018, 2019, and 2020\n",
    "total_deaths_2018 = df[df['CRASH DATE'].dt.year == 2018]['NUMBER OF PERSONS KILLED'].sum()\n",
    "total_deaths_2019 = df[df['CRASH DATE'].dt.year == 2019]['NUMBER OF PERSONS KILLED'].sum()\n",
    "total_deaths_2020 = df[df['CRASH DATE'].dt.year == 2020]['NUMBER OF PERSONS KILLED'].sum()\n",
    "\n",
    "print('Total Deaths in 2018:', total_deaths_2018)\n",
    "print('Total Deaths in 2019:', total_deaths_2019)\n",
    "print('Total Deaths in 2020:', total_deaths_2020)"
   ]
  },
  {
   "cell_type": "code",
   "execution_count": 27,
   "metadata": {},
   "outputs": [
    {
     "name": "stdout",
     "output_type": "stream",
     "text": [
      "61941.0\n",
      "61389.0\n",
      "44614.0\n"
     ]
    }
   ],
   "source": [
    "total_injuries_2018 = df[df['CRASH DATE'].dt.year == 2018]['NUMBER OF PERSONS INJURED'].sum()\n",
    "total_injuries_2019 = df[df['CRASH DATE'].dt.year == 2019]['NUMBER OF PERSONS INJURED'].sum()\n",
    "total_injuries_2020 = df[df['CRASH DATE'].dt.year == 2020]['NUMBER OF PERSONS INJURED'].sum()\n",
    "\n",
    "print(total_injuries_2018)\n",
    "print(total_injuries_2019)\n",
    "print(total_injuries_2020)"
   ]
  }
 ],
 "metadata": {
  "kernelspec": {
   "display_name": "base",
   "language": "python",
   "name": "python3"
  },
  "language_info": {
   "codemirror_mode": {
    "name": "ipython",
    "version": 3
   },
   "file_extension": ".py",
   "mimetype": "text/x-python",
   "name": "python",
   "nbconvert_exporter": "python",
   "pygments_lexer": "ipython3",
   "version": "3.11.5"
  }
 },
 "nbformat": 4,
 "nbformat_minor": 2
}
